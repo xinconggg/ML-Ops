{
  "nbformat": 4,
  "nbformat_minor": 0,
  "metadata": {
    "colab": {
      "provenance": []
    },
    "kernelspec": {
      "name": "python3",
      "display_name": "Python 3"
    },
    "language_info": {
      "name": "python"
    }
  },
  "cells": [
    {
      "cell_type": "markdown",
      "source": [
        "# Exceptions\n"
      ],
      "metadata": {
        "id": "P11-nAU6ZZa1"
      }
    },
    {
      "cell_type": "markdown",
      "source": [
        "## How Exceptions happen"
      ],
      "metadata": {
        "id": "wiLG68wla8tQ"
      }
    },
    {
      "cell_type": "code",
      "execution_count": 1,
      "metadata": {
        "colab": {
          "base_uri": "https://localhost:8080/",
          "height": 158
        },
        "id": "yvyJJn2HW4_X",
        "outputId": "720ebadb-2a60-40bb-babb-e6666219ba94"
      },
      "outputs": [
        {
          "output_type": "error",
          "ename": "ZeroDivisionError",
          "evalue": "division by zero",
          "traceback": [
            "\u001b[0;31m---------------------------------------------------------------------------\u001b[0m",
            "\u001b[0;31mZeroDivisionError\u001b[0m                         Traceback (most recent call last)",
            "\u001b[0;32m<ipython-input-1-a16adf7db5a6>\u001b[0m in \u001b[0;36m<cell line: 2>\u001b[0;34m()\u001b[0m\n\u001b[1;32m      1\u001b[0m \u001b[0;31m# Exception from Python itself\u001b[0m\u001b[0;34m\u001b[0m\u001b[0;34m\u001b[0m\u001b[0m\n\u001b[0;32m----> 2\u001b[0;31m \u001b[0;36m14\u001b[0m \u001b[0;34m/\u001b[0m \u001b[0;36m0\u001b[0m\u001b[0;34m\u001b[0m\u001b[0;34m\u001b[0m\u001b[0m\n\u001b[0m",
            "\u001b[0;31mZeroDivisionError\u001b[0m: division by zero"
          ]
        }
      ],
      "source": [
        "# Exception from Python itself\n",
        "14 / 0"
      ]
    },
    {
      "cell_type": "code",
      "source": [
        "# Generating an Exception using own code\n",
        "raise RuntimeError(\"this is an error code!\")"
      ],
      "metadata": {
        "colab": {
          "base_uri": "https://localhost:8080/",
          "height": 158
        },
        "id": "YXxogo7abCDQ",
        "outputId": "c69a6025-fb72-48a4-b46c-7d532e437562"
      },
      "execution_count": 2,
      "outputs": [
        {
          "output_type": "error",
          "ename": "RuntimeError",
          "evalue": "this is an error code!",
          "traceback": [
            "\u001b[0;31m---------------------------------------------------------------------------\u001b[0m",
            "\u001b[0;31mRuntimeError\u001b[0m                              Traceback (most recent call last)",
            "\u001b[0;32m<ipython-input-2-29f67f373cbd>\u001b[0m in \u001b[0;36m<cell line: 2>\u001b[0;34m()\u001b[0m\n\u001b[1;32m      1\u001b[0m \u001b[0;31m# Generating an Exception using own code\u001b[0m\u001b[0;34m\u001b[0m\u001b[0;34m\u001b[0m\u001b[0m\n\u001b[0;32m----> 2\u001b[0;31m \u001b[0;32mraise\u001b[0m \u001b[0mRuntimeError\u001b[0m\u001b[0;34m(\u001b[0m\u001b[0;34m\"this is an error code!\"\u001b[0m\u001b[0;34m)\u001b[0m\u001b[0;34m\u001b[0m\u001b[0;34m\u001b[0m\u001b[0m\n\u001b[0m",
            "\u001b[0;31mRuntimeError\u001b[0m: this is an error code!"
          ]
        }
      ]
    },
    {
      "cell_type": "markdown",
      "source": [
        "## Catching an Exception\n",
        "Both ```try``` and ```except``` keywords are needed to catch exceptions. Always catch exceptions that is needed."
      ],
      "metadata": {
        "id": "roOI8o-2bd4k"
      }
    },
    {
      "cell_type": "code",
      "source": [
        "try:\n",
        "  # Some operation that intentionally causes an error\n",
        "  result = 14 / 0\n",
        "except ZeroDivisionError:\n",
        "  # Try other operations that are defined\n",
        "  result = 14 / 2\n",
        "\n",
        "print(result)"
      ],
      "metadata": {
        "colab": {
          "base_uri": "https://localhost:8080/"
        },
        "id": "Ty5jMtMBbO5N",
        "outputId": "3f88d373-f584-4baa-9378-78fd58acca22"
      },
      "execution_count": 3,
      "outputs": [
        {
          "output_type": "stream",
          "name": "stdout",
          "text": [
            "7.0\n"
          ]
        }
      ]
    },
    {
      "cell_type": "markdown",
      "source": [
        "## Catching Multiple Exceptions\n",
        "Exceptions can be grouped during the process of catching them."
      ],
      "metadata": {
        "id": "g9JLEPdVb_Uq"
      }
    },
    {
      "cell_type": "code",
      "source": [
        "try:\n",
        "  # Some operation that intentionally causes an error\n",
        "  result = 14 / 2\n",
        "  result + \"100\"\n",
        "except (ZeroDivisionError, TypeError):\n",
        "  # Try other operations that are defined\n",
        "  result = 14 / 2\n",
        "\n",
        "print(result)"
      ],
      "metadata": {
        "colab": {
          "base_uri": "https://localhost:8080/"
        },
        "id": "J8O0_kZSbwOa",
        "outputId": "39620695-544d-44d2-8abf-4551cf65977b"
      },
      "execution_count": 4,
      "outputs": [
        {
          "output_type": "stream",
          "name": "stdout",
          "text": [
            "7.0\n"
          ]
        }
      ]
    }
  ]
}