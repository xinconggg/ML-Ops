{
  "nbformat": 4,
  "nbformat_minor": 0,
  "metadata": {
    "colab": {
      "provenance": []
    },
    "kernelspec": {
      "name": "python3",
      "display_name": "Python 3"
    },
    "language_info": {
      "name": "python"
    }
  },
  "cells": [
    {
      "cell_type": "markdown",
      "source": [
        "# Variable and Keyword Arguments\n",
        "These types of arguments are used whenever there is an unknown number of arguments that will be received."
      ],
      "metadata": {
        "id": "szMjaNW-mg5l"
      }
    },
    {
      "cell_type": "markdown",
      "source": [
        "## Variable Arguments"
      ],
      "metadata": {
        "id": "9Ha4HZCKm0vj"
      }
    },
    {
      "cell_type": "code",
      "execution_count": 1,
      "metadata": {
        "colab": {
          "base_uri": "https://localhost:8080/"
        },
        "id": "av0Uxjq7mefO",
        "outputId": "09becafe-8c7d-4da4-a16c-3fa6231c074e"
      },
      "outputs": [
        {
          "output_type": "stream",
          "name": "stdout",
          "text": [
            "Alex\n",
            "Bob\n",
            "Charlie\n"
          ]
        }
      ],
      "source": [
        "## Can take in 0 or more arguments\n",
        "\n",
        "def family_members(*args):\n",
        "  for name in args:\n",
        "    print(name)\n",
        "\n",
        "family_members(\"Alex\", \"Bob\", \"Charlie\")"
      ]
    },
    {
      "cell_type": "markdown",
      "source": [
        "It is not restricted to be called as \"*args\"."
      ],
      "metadata": {
        "id": "bKNx9GyBnDaG"
      }
    },
    {
      "cell_type": "code",
      "source": [
        "def family_members(*names):\n",
        "  for name in names:\n",
        "        print(name)\n",
        "\n",
        "family_members(\"Alex\", \"Bob\", \"Charlie\")"
      ],
      "metadata": {
        "colab": {
          "base_uri": "https://localhost:8080/"
        },
        "id": "eHdTH1jAnBEo",
        "outputId": "b44e170d-1d66-460a-b349-b5cec6daa608"
      },
      "execution_count": 2,
      "outputs": [
        {
          "output_type": "stream",
          "name": "stdout",
          "text": [
            "Alex\n",
            "Bob\n",
            "Charlie\n"
          ]
        }
      ]
    },
    {
      "cell_type": "markdown",
      "source": [
        "## Variable Keyword Arguments\n",
        "These arguments are mapped to a value, like a dictionary."
      ],
      "metadata": {
        "id": "ixCdNfn6nST9"
      }
    },
    {
      "cell_type": "code",
      "source": [
        "def stats(**kwargs):\n",
        "  # kwargs is now a dictionary\n",
        "  for key, value in kwargs.items():\n",
        "    print(key, \"-->\", value)\n",
        "\n",
        "stats(speed=\"slow\",  active=False, weight=100)"
      ],
      "metadata": {
        "colab": {
          "base_uri": "https://localhost:8080/"
        },
        "id": "RNyBZ4GenNNp",
        "outputId": "b03a5657-02f5-4638-a6b6-25426fe91f87"
      },
      "execution_count": 3,
      "outputs": [
        {
          "output_type": "stream",
          "name": "stdout",
          "text": [
            "speed --> slow\n",
            "active --> False\n",
            "weight --> 100\n"
          ]
        }
      ]
    }
  ]
}