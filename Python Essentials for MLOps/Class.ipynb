{
  "cells": [
    {
      "cell_type": "markdown",
      "metadata": {
        "id": "3BJXom6yqpW4"
      },
      "source": [
        "## Introduction to Classes\n",
        "Classes are good when grouping codes and behaviour that can be reused which is impossible with functions."
      ]
    },
    {
      "cell_type": "code",
      "execution_count": 1,
      "metadata": {
        "id": "FRreuinwqc5-"
      },
      "outputs": [],
      "source": [
        "class Dog:\n",
        "  is_animal = True\n",
        "\n",
        "  def bark(self):\n",
        "    print(\"Woof!\")"
      ]
    },
    {
      "cell_type": "code",
      "execution_count": 2,
      "metadata": {
        "colab": {
          "base_uri": "https://localhost:8080/"
        },
        "id": "YYwelsnwq8U5",
        "outputId": "0a57f0a7-56d5-4034-cc8f-9997f3b36b80"
      },
      "outputs": [
        {
          "output_type": "stream",
          "name": "stdout",
          "text": [
            "Woof!\n"
          ]
        },
        {
          "output_type": "execute_result",
          "data": {
            "text/plain": [
              "True"
            ]
          },
          "metadata": {},
          "execution_count": 2
        }
      ],
      "source": [
        "dog = Dog()\n",
        "\n",
        "dog.bark()\n",
        "dog.is_animal"
      ]
    },
    {
      "cell_type": "markdown",
      "metadata": {
        "id": "4O4yutnirEhr"
      },
      "source": [
        "Be careful for class attributes that can change \"state\" from every instance and objects."
      ]
    },
    {
      "cell_type": "code",
      "execution_count": 3,
      "metadata": {
        "colab": {
          "base_uri": "https://localhost:8080/"
        },
        "id": "eGDhpyqBrAyw",
        "outputId": "b48f2f7e-d8a1-4652-b9af-6a70dc3a30f1"
      },
      "outputs": [
        {
          "output_type": "stream",
          "name": "stdout",
          "text": [
            "Is dog an animal? False\n"
          ]
        }
      ],
      "source": [
        "Dog.is_animal = False\n",
        "\n",
        "print(\"Is dog an animal?\", dog.is_animal)"
      ]
    },
    {
      "cell_type": "markdown",
      "metadata": {
        "id": "hNBOeuwJsj0t"
      },
      "source": [
        "## Constructor\n",
        "A constructor can help with problems caused by the accidental changing of state."
      ]
    },
    {
      "cell_type": "code",
      "execution_count": 4,
      "metadata": {
        "id": "Fzsmce4zrTON"
      },
      "outputs": [],
      "source": [
        "# The Constructor in Python is with the method called \"__init__\"\n",
        "\n",
        "class Dog:\n",
        "\n",
        "  def __init__(self):\n",
        "    self.is_animal = True"
      ]
    },
    {
      "cell_type": "code",
      "execution_count": 5,
      "metadata": {
        "colab": {
          "base_uri": "https://localhost:8080/"
        },
        "id": "rVQcmSTss3aC",
        "outputId": "1eec85e4-6c6e-4bfc-c70c-683997df95ad"
      },
      "outputs": [
        {
          "output_type": "stream",
          "name": "stdout",
          "text": [
            "Rufus is an animal: True\n",
            "Sparky is an animal: True\n"
          ]
        }
      ],
      "source": [
        "rufus = Dog()\n",
        "sparky = Dog()\n",
        "\n",
        "print(\"Rufus is an animal:\", rufus.is_animal)\n",
        "print(\"Sparky is an animal:\", sparky.is_animal)"
      ]
    },
    {
      "cell_type": "code",
      "execution_count": 6,
      "metadata": {
        "colab": {
          "base_uri": "https://localhost:8080/"
        },
        "id": "F9embNlmtDfk",
        "outputId": "8353d5ce-3209-4298-cc16-d66d5d9fd176"
      },
      "outputs": [
        {
          "output_type": "stream",
          "name": "stdout",
          "text": [
            "Rufus is an animal: False\n",
            "Sparky is an animal: True\n"
          ]
        }
      ],
      "source": [
        "rufus.is_animal = False\n",
        "\n",
        "print(\"Rufus is an animal:\", rufus.is_animal)\n",
        "print(\"Sparky is an animal:\", sparky.is_animal)"
      ]
    },
    {
      "cell_type": "markdown",
      "metadata": {
        "id": "-hLQupaYtLd_"
      },
      "source": [
        "## State\n",
        "When an instance of a class, which creates an object, is created, that object has ```state```."
      ]
    },
    {
      "cell_type": "code",
      "execution_count": 7,
      "metadata": {
        "id": "i2kUoTOmtHJs"
      },
      "outputs": [],
      "source": [
        "class Animal:\n",
        "\n",
        "  def __init__(self, name, legs=4, barks=True):\n",
        "    self.name = name\n",
        "    self.legs = legs\n",
        "    self.barks = barks\n",
        "\n",
        "  def info(self):\n",
        "    print(f\"There is an animal named {self.name} that has {self.legs} legs.\")\n",
        "    if self.barks:\n",
        "      print(\"And it barks.\")\n",
        "    else:\n",
        "      print(\"And it does not bark.\")"
      ]
    },
    {
      "cell_type": "code",
      "execution_count": 8,
      "metadata": {
        "colab": {
          "base_uri": "https://localhost:8080/"
        },
        "id": "sOObe_-vt43e",
        "outputId": "8c8f88ea-37e1-4595-dbc5-6206f548869e"
      },
      "outputs": [
        {
          "output_type": "stream",
          "name": "stdout",
          "text": [
            "There is an animal named Buster that has 4 legs.\n",
            "And it does not bark.\n"
          ]
        }
      ],
      "source": [
        "bunny = Animal(\"Buster\", barks=False)\n",
        "bunny.info()"
      ]
    },
    {
      "cell_type": "code",
      "execution_count": 9,
      "metadata": {
        "colab": {
          "base_uri": "https://localhost:8080/"
        },
        "id": "9b6PWH7at-U_",
        "outputId": "75e26793-e291-452d-d16e-2342e741b780"
      },
      "outputs": [
        {
          "output_type": "stream",
          "name": "stdout",
          "text": [
            "Buster\n",
            "4\n",
            "False\n"
          ]
        }
      ],
      "source": [
        "print(bunny.name)\n",
        "print(bunny.legs)\n",
        "print(bunny.barks)"
      ]
    },
    {
      "cell_type": "markdown",
      "metadata": {
        "id": "P0Kd3Rv8vOzY"
      },
      "source": [
        "## Methods"
      ]
    },
    {
      "cell_type": "code",
      "execution_count": 10,
      "metadata": {
        "id": "0GB1c7fPuE9Y"
      },
      "outputs": [],
      "source": [
        "class Budget():\n",
        "  def __init__(self, budget):\n",
        "    self.budget = budget\n",
        "\n",
        "  def expense(self, amount):\n",
        "    self.budget -= amount\n",
        "    print(f\"Budget left: ${self.budget}\")"
      ]
    },
    {
      "cell_type": "code",
      "execution_count": 11,
      "metadata": {
        "id": "BYsPtEkfvfY4",
        "colab": {
          "base_uri": "https://localhost:8080/"
        },
        "outputId": "feb80290-977e-4134-f8e1-741ed2abe68e"
      },
      "outputs": [
        {
          "output_type": "stream",
          "name": "stdout",
          "text": [
            "Budget left: $75\n",
            "Budget left: $25\n"
          ]
        }
      ],
      "source": [
        "budget = Budget(100)\n",
        "\n",
        "budget.expense(25)\n",
        "budget.expense(50)"
      ]
    },
    {
      "cell_type": "markdown",
      "source": [
        "A method can call another method:"
      ],
      "metadata": {
        "id": "AEX7-21Yv8Ik"
      }
    },
    {
      "cell_type": "code",
      "execution_count": 12,
      "metadata": {
        "id": "LhpW7XRPvkUJ"
      },
      "outputs": [],
      "source": [
        "class Budget():\n",
        "  def __init__(self, budget):\n",
        "    self.budget = budget\n",
        "\n",
        "  def expense(self, amount):\n",
        "    self.budget -= amount\n",
        "    self.report()\n",
        "\n",
        "  def report(self):\n",
        "    print(f\"Budget left: ${self.budget}\")"
      ]
    },
    {
      "cell_type": "code",
      "source": [
        "new_budget = Budget(500)\n",
        "\n",
        "new_budget.expense(200)"
      ],
      "metadata": {
        "colab": {
          "base_uri": "https://localhost:8080/"
        },
        "id": "G98jzmPDwJJS",
        "outputId": "f854d807-fddb-40d9-cd53-354f0b965814"
      },
      "execution_count": 13,
      "outputs": [
        {
          "output_type": "stream",
          "name": "stdout",
          "text": [
            "Budget left: $300\n"
          ]
        }
      ]
    },
    {
      "cell_type": "markdown",
      "source": [
        "## Inheritance"
      ],
      "metadata": {
        "id": "qrdx_U-KxUZZ"
      }
    },
    {
      "cell_type": "code",
      "source": [
        "# Create a Base class for pets\n",
        "\n",
        "class Pet:\n",
        "  def eat(self):\n",
        "    self.food -= self.appetite\n",
        "    print(f\"Ate {self.appetite} of food and have {self.food} left.\")"
      ],
      "metadata": {
        "id": "lI7hPc1-xVko"
      },
      "execution_count": 14,
      "outputs": []
    },
    {
      "cell_type": "code",
      "source": [
        "# Create Child Classes for other pets like Cats and Dogs, and inherit from Base class\n",
        "\n",
        "class Cat(Pet):\n",
        "  def __init__(self):\n",
        "    self.food = 100\n",
        "    self.appetite = 5\n",
        "\n",
        "class Dog(Pet):\n",
        "  def __init__(self):\n",
        "    self.food = 200\n",
        "    self.appetite = 10\n",
        "\n",
        "perry = Cat()\n",
        "rufus = Dog()"
      ],
      "metadata": {
        "id": "sOJvMiipxohJ"
      },
      "execution_count": 15,
      "outputs": []
    },
    {
      "cell_type": "code",
      "source": [
        "perry.eat()\n",
        "rufus.eat()"
      ],
      "metadata": {
        "colab": {
          "base_uri": "https://localhost:8080/"
        },
        "id": "Lxdde5aOyBf5",
        "outputId": "aba76ab2-3772-4953-aacd-19716772a33b"
      },
      "execution_count": 16,
      "outputs": [
        {
          "output_type": "stream",
          "name": "stdout",
          "text": [
            "Ate 5 of food and have 95 left.\n",
            "Ate 10 of food and have 190 left.\n"
          ]
        }
      ]
    }
  ],
  "metadata": {
    "colab": {
      "provenance": []
    },
    "kernelspec": {
      "display_name": "Python 3",
      "name": "python3"
    },
    "language_info": {
      "name": "python"
    }
  },
  "nbformat": 4,
  "nbformat_minor": 0
}