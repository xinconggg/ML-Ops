{
  "nbformat": 4,
  "nbformat_minor": 0,
  "metadata": {
    "colab": {
      "provenance": []
    },
    "kernelspec": {
      "name": "python3",
      "display_name": "Python 3"
    },
    "language_info": {
      "name": "python"
    }
  },
  "cells": [
    {
      "cell_type": "markdown",
      "source": [
        "## HuggingFace Transformers"
      ],
      "metadata": {
        "id": "5t60l_ntNSCX"
      }
    },
    {
      "cell_type": "code",
      "execution_count": 1,
      "metadata": {
        "id": "grXoHr6vLxyh"
      },
      "outputs": [],
      "source": [
        "from transformers import pipeline"
      ]
    },
    {
      "cell_type": "markdown",
      "source": [
        "Define the generator pipeline. In this case, use the ```text2text``` for NLP processing."
      ],
      "metadata": {
        "id": "a-vIP4r0NBb0"
      }
    },
    {
      "cell_type": "code",
      "source": [
        "generator = pipeline(\"text2text-generation\", model=\"t5-base\")"
      ],
      "metadata": {
        "colab": {
          "base_uri": "https://localhost:8080/"
        },
        "id": "95d3RjD7L1EM",
        "outputId": "b2dd6670-08dc-4806-d743-4e5d53fb4f0b"
      },
      "execution_count": 2,
      "outputs": [
        {
          "output_type": "stream",
          "name": "stderr",
          "text": [
            "/usr/local/lib/python3.10/dist-packages/huggingface_hub/utils/_auth.py:94: UserWarning: \n",
            "The secret `HF_TOKEN` does not exist in your Colab secrets.\n",
            "To authenticate with the Hugging Face Hub, create a token in your settings tab (https://huggingface.co/settings/tokens), set it as secret in your Google Colab and restart your session.\n",
            "You will be able to reuse this secret in all of your notebooks.\n",
            "Please note that authentication is recommended but still optional to access public models or datasets.\n",
            "  warnings.warn(\n",
            "Device set to use cpu\n"
          ]
        }
      ]
    },
    {
      "cell_type": "markdown",
      "source": [
        "### Summarize"
      ],
      "metadata": {
        "id": "Fg-a80hoNPkl"
      }
    },
    {
      "cell_type": "code",
      "source": [
        "generator(\"summarize: Machine Learning in production environments is largely seen as the ultimate goal. It is complex to create a foundational process that is reliable and automated, it requires commitment from the team and the organization as a whole.\")"
      ],
      "metadata": {
        "colab": {
          "base_uri": "https://localhost:8080/"
        },
        "id": "VrTeIf4NNNkV",
        "outputId": "e70311a9-8376-45b3-fbc8-b2e87a45a030"
      },
      "execution_count": 3,
      "outputs": [
        {
          "output_type": "execute_result",
          "data": {
            "text/plain": [
              "[{'generated_text': 'machine learning is a key goal in many production environments . it requires commitment from the team and'}]"
            ]
          },
          "metadata": {},
          "execution_count": 3
        }
      ]
    },
    {
      "cell_type": "markdown",
      "source": [
        "### Sentiment"
      ],
      "metadata": {
        "id": "fgdh-rGVOeqt"
      }
    },
    {
      "cell_type": "code",
      "source": [
        "generator(\"sst2 sentence: Automation takes hard work but allows you to have a solid deployment.\")"
      ],
      "metadata": {
        "colab": {
          "base_uri": "https://localhost:8080/"
        },
        "id": "spQJ2sddOd-G",
        "outputId": "eb338434-32c8-4962-9ab3-beee3b3eb12b"
      },
      "execution_count": 4,
      "outputs": [
        {
          "output_type": "execute_result",
          "data": {
            "text/plain": [
              "[{'generated_text': 'positive'}]"
            ]
          },
          "metadata": {},
          "execution_count": 4
        }
      ]
    },
    {
      "cell_type": "markdown",
      "source": [
        "### Questions"
      ],
      "metadata": {
        "id": "pBLiBZxlOnhp"
      }
    },
    {
      "cell_type": "code",
      "source": [
        "generator(\"question: Is deploying models into production hard?\")"
      ],
      "metadata": {
        "colab": {
          "base_uri": "https://localhost:8080/"
        },
        "id": "JmcZOivBNmDH",
        "outputId": "f725d5b2-412c-475e-c498-e815dfdd122d"
      },
      "execution_count": 5,
      "outputs": [
        {
          "output_type": "execute_result",
          "data": {
            "text/plain": [
              "[{'generated_text': 'not_entailment'}]"
            ]
          },
          "metadata": {},
          "execution_count": 5
        }
      ]
    },
    {
      "cell_type": "markdown",
      "source": [
        "### Translation"
      ],
      "metadata": {
        "id": "GQlN64xROwYu"
      }
    },
    {
      "cell_type": "code",
      "source": [
        "generator(\"translate English to French: Automation takes hard work but allows you to have a solid deployment.\")"
      ],
      "metadata": {
        "colab": {
          "base_uri": "https://localhost:8080/"
        },
        "id": "MwJPKURXOu7r",
        "outputId": "b2f70342-a3c9-4f37-e694-01898941fc4c"
      },
      "execution_count": 6,
      "outputs": [
        {
          "output_type": "execute_result",
          "data": {
            "text/plain": [
              "[{'generated_text': \"L'automatisation exige beaucoup de travail, mais vous permet d'avoir un déplo\"}]"
            ]
          },
          "metadata": {},
          "execution_count": 6
        }
      ]
    },
    {
      "cell_type": "markdown",
      "source": [
        "### Other models can be called to generate other objects as well.\n",
        "In this case, to generate text from a given phrase."
      ],
      "metadata": {
        "id": "jQ4xELeuO-Gg"
      }
    },
    {
      "cell_type": "code",
      "source": [
        "gpt2_generator = pipeline(\"text-generation\", model=\"gpt2\")"
      ],
      "metadata": {
        "colab": {
          "base_uri": "https://localhost:8080/"
        },
        "id": "E5-CgzawO2qo",
        "outputId": "f453be47-3502-42bb-ddfb-20c89277cc55"
      },
      "execution_count": 7,
      "outputs": [
        {
          "output_type": "stream",
          "name": "stderr",
          "text": [
            "Device set to use cpu\n"
          ]
        }
      ]
    },
    {
      "cell_type": "code",
      "source": [
        "gpt2_generator(\"Some phrase here was thought to be\", max_new_tokens=512)"
      ],
      "metadata": {
        "colab": {
          "base_uri": "https://localhost:8080/"
        },
        "id": "pWESrEE-PFIP",
        "outputId": "9c5ad642-8acd-4851-b995-89f5f13e8c34"
      },
      "execution_count": 8,
      "outputs": [
        {
          "output_type": "stream",
          "name": "stderr",
          "text": [
            "Setting `pad_token_id` to `eos_token_id`:50256 for open-end generation.\n"
          ]
        },
        {
          "output_type": "execute_result",
          "data": {
            "text/plain": [
              "[{'generated_text': \"Some phrase here was thought to be a great phrase but it is not.\\n\\nAnd that is what brings up two of the greatest minds on this issue, who make this call on our most sacred duty:\\n\\nOne: the first line in the Bible on marriage. He did it in a way that had an affect on his own soul and his wife was not his own spouse. And what he had done is wrong, wrong in many ways. (D&C 110:31-36) So God didn't write that it was a sin for a man or a woman to have a marriage based on their own life. It was an ordinance, and God didn't write that it was an ordinance to be found in the scriptures. It is still right and wrong if his or woman is divorced and have children because of her own parents, but it isn't wrong for the husband to have the second marital marriage based on her life.\\n\\nTwo: There is little reason to believe that God ever intended marriage to be based solely upon God's own will. No, there is no reasonable way in which one could be able to deny that such a policy is right, even if God and God's servants may sometimes have disagreed.\\n\\nThey would deny it or believe that it was a matter for God's own good. This approach is wrong, not because God did not give it as God's might, but because He was not.\\n\\nAnd that is a good thing. It shows that while you may believe the scriptures you cannot deny things in an unspoken way. If God wanted us to believe the Bible, you could believe as he did, and if this did not happen, you could believe what he thought he might. And that is a wise way of doing things in our culture.\\n\\nAnd I don't know of anyone who would deny that and still hold that what the scriptures teach, that God might've done something wrong, that God could've had a better outcome. I also know that there can be no doubt that if he did have a better outcome, it can't have been for his own good and that he didn't want to do the work of getting into the Church because there are some issues about it that aren't really there. Maybe he wanted to make his marriage work, or maybe he wanted a family that made no sense because of money, maybe he thought he was doing something wrong, and I'm sure that if he had just been honest and had taken care, that might have put him in a better place or even in a better\"}]"
            ]
          },
          "metadata": {},
          "execution_count": 8
        }
      ]
    }
  ]
}